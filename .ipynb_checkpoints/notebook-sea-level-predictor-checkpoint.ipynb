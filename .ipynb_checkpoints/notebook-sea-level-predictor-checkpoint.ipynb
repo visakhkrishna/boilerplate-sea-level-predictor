{
 "cells": [
  {
   "cell_type": "code",
   "execution_count": 3,
   "id": "ae1559aa-ee48-4d1f-82a4-bb1a8ce43e71",
   "metadata": {},
   "outputs": [],
   "source": [
    "import pandas as pd\n",
    "import matplotlib.pyplot as plt"
   ]
  },
  {
   "cell_type": "code",
   "execution_count": 4,
   "id": "fefc5c1a-4055-450d-b4f2-2f0bcf014653",
   "metadata": {},
   "outputs": [],
   "source": [
    "from scipy.stats import linregress"
   ]
  },
  {
   "cell_type": "code",
   "execution_count": 5,
   "id": "db6700db-ce64-476c-a016-d72a1c9a2c91",
   "metadata": {},
   "outputs": [],
   "source": [
    "df = pd.read_csv('epa-sea-level.csv')"
   ]
  },
  {
   "cell_type": "code",
   "execution_count": 6,
   "id": "ecdfb851-95d2-4d87-b24e-70e436c30ef8",
   "metadata": {},
   "outputs": [
    {
     "data": {
      "text/html": [
       "<div>\n",
       "<style scoped>\n",
       "    .dataframe tbody tr th:only-of-type {\n",
       "        vertical-align: middle;\n",
       "    }\n",
       "\n",
       "    .dataframe tbody tr th {\n",
       "        vertical-align: top;\n",
       "    }\n",
       "\n",
       "    .dataframe thead th {\n",
       "        text-align: right;\n",
       "    }\n",
       "</style>\n",
       "<table border=\"1\" class=\"dataframe\">\n",
       "  <thead>\n",
       "    <tr style=\"text-align: right;\">\n",
       "      <th></th>\n",
       "      <th>Year</th>\n",
       "      <th>CSIRO Adjusted Sea Level</th>\n",
       "      <th>Lower Error Bound</th>\n",
       "      <th>Upper Error Bound</th>\n",
       "      <th>NOAA Adjusted Sea Level</th>\n",
       "    </tr>\n",
       "  </thead>\n",
       "  <tbody>\n",
       "    <tr>\n",
       "      <th>0</th>\n",
       "      <td>1880</td>\n",
       "      <td>0.000000</td>\n",
       "      <td>-0.952756</td>\n",
       "      <td>0.952756</td>\n",
       "      <td>NaN</td>\n",
       "    </tr>\n",
       "    <tr>\n",
       "      <th>1</th>\n",
       "      <td>1881</td>\n",
       "      <td>0.220472</td>\n",
       "      <td>-0.732283</td>\n",
       "      <td>1.173228</td>\n",
       "      <td>NaN</td>\n",
       "    </tr>\n",
       "    <tr>\n",
       "      <th>2</th>\n",
       "      <td>1882</td>\n",
       "      <td>-0.440945</td>\n",
       "      <td>-1.346457</td>\n",
       "      <td>0.464567</td>\n",
       "      <td>NaN</td>\n",
       "    </tr>\n",
       "    <tr>\n",
       "      <th>3</th>\n",
       "      <td>1883</td>\n",
       "      <td>-0.232283</td>\n",
       "      <td>-1.129921</td>\n",
       "      <td>0.665354</td>\n",
       "      <td>NaN</td>\n",
       "    </tr>\n",
       "    <tr>\n",
       "      <th>4</th>\n",
       "      <td>1884</td>\n",
       "      <td>0.590551</td>\n",
       "      <td>-0.283465</td>\n",
       "      <td>1.464567</td>\n",
       "      <td>NaN</td>\n",
       "    </tr>\n",
       "    <tr>\n",
       "      <th>...</th>\n",
       "      <td>...</td>\n",
       "      <td>...</td>\n",
       "      <td>...</td>\n",
       "      <td>...</td>\n",
       "      <td>...</td>\n",
       "    </tr>\n",
       "    <tr>\n",
       "      <th>129</th>\n",
       "      <td>2009</td>\n",
       "      <td>8.586614</td>\n",
       "      <td>8.311024</td>\n",
       "      <td>8.862205</td>\n",
       "      <td>8.046354</td>\n",
       "    </tr>\n",
       "    <tr>\n",
       "      <th>130</th>\n",
       "      <td>2010</td>\n",
       "      <td>8.901575</td>\n",
       "      <td>8.618110</td>\n",
       "      <td>9.185039</td>\n",
       "      <td>8.122973</td>\n",
       "    </tr>\n",
       "    <tr>\n",
       "      <th>131</th>\n",
       "      <td>2011</td>\n",
       "      <td>8.964567</td>\n",
       "      <td>8.661417</td>\n",
       "      <td>9.267717</td>\n",
       "      <td>8.053065</td>\n",
       "    </tr>\n",
       "    <tr>\n",
       "      <th>132</th>\n",
       "      <td>2012</td>\n",
       "      <td>9.326772</td>\n",
       "      <td>8.992126</td>\n",
       "      <td>9.661417</td>\n",
       "      <td>8.457058</td>\n",
       "    </tr>\n",
       "    <tr>\n",
       "      <th>133</th>\n",
       "      <td>2013</td>\n",
       "      <td>8.980315</td>\n",
       "      <td>8.622047</td>\n",
       "      <td>9.338583</td>\n",
       "      <td>8.546648</td>\n",
       "    </tr>\n",
       "  </tbody>\n",
       "</table>\n",
       "<p>134 rows × 5 columns</p>\n",
       "</div>"
      ],
      "text/plain": [
       "     Year  CSIRO Adjusted Sea Level  Lower Error Bound  Upper Error Bound  \\\n",
       "0    1880                  0.000000          -0.952756           0.952756   \n",
       "1    1881                  0.220472          -0.732283           1.173228   \n",
       "2    1882                 -0.440945          -1.346457           0.464567   \n",
       "3    1883                 -0.232283          -1.129921           0.665354   \n",
       "4    1884                  0.590551          -0.283465           1.464567   \n",
       "..    ...                       ...                ...                ...   \n",
       "129  2009                  8.586614           8.311024           8.862205   \n",
       "130  2010                  8.901575           8.618110           9.185039   \n",
       "131  2011                  8.964567           8.661417           9.267717   \n",
       "132  2012                  9.326772           8.992126           9.661417   \n",
       "133  2013                  8.980315           8.622047           9.338583   \n",
       "\n",
       "     NOAA Adjusted Sea Level  \n",
       "0                        NaN  \n",
       "1                        NaN  \n",
       "2                        NaN  \n",
       "3                        NaN  \n",
       "4                        NaN  \n",
       "..                       ...  \n",
       "129                 8.046354  \n",
       "130                 8.122973  \n",
       "131                 8.053065  \n",
       "132                 8.457058  \n",
       "133                 8.546648  \n",
       "\n",
       "[134 rows x 5 columns]"
      ]
     },
     "execution_count": 6,
     "metadata": {},
     "output_type": "execute_result"
    }
   ],
   "source": [
    "df"
   ]
  },
  {
   "cell_type": "code",
   "execution_count": 7,
   "id": "ec30a0d5-bf08-4c73-bd86-f45c7b4d2193",
   "metadata": {},
   "outputs": [
    {
     "data": {
      "text/plain": [
       "<matplotlib.collections.PathCollection at 0x23459b252e0>"
      ]
     },
     "execution_count": 7,
     "metadata": {},
     "output_type": "execute_result"
    },
    {
     "data": {
      "image/png": "[encoded data removed]",
      "text/plain": [
       "<Figure size 1000x1000 with 1 Axes>"
      ]
     },
     "metadata": {},
     "output_type": "display_data"
    }
   ],
   "source": [
    "fig1, ax1 = plt.subplots(figsize=(10, 10))\n",
    "plt.scatter(df['Year'], df['CSIRO Adjusted Sea Level'])"
   ]
  },
  {
   "cell_type": "code",
   "execution_count": 10,
   "id": "796f706a-85c3-4b2c-8772-089b8e9409b5",
   "metadata": {},
   "outputs": [],
   "source": [
    "slope, intercept, r, p, se = linregress(df['Year'], df['CSIRO Adjusted Sea Level'])"
   ]
  },
  {
   "cell_type": "code",
   "execution_count": 11,
   "id": "25bda095-b12f-4d46-ba3c-4a27ad065cbd",
   "metadata": {},
   "outputs": [
    {
     "data": {
      "text/plain": [
       "0.0630445840121348"
      ]
     },
     "execution_count": 11,
     "metadata": {},
     "output_type": "execute_result"
    }
   ],
   "source": [
    "slope"
   ]
  },
  {
   "cell_type": "code",
   "execution_count": 12,
   "id": "15899411-fb14-4805-8eb7-e0c12d58519c",
   "metadata": {},
   "outputs": [
    {
     "data": {
      "text/plain": [
       "-119.06594196773978"
      ]
     },
     "execution_count": 12,
     "metadata": {},
     "output_type": "execute_result"
    }
   ],
   "source": [
    "intercept"
   ]
  },
  {
   "cell_type": "code",
   "execution_count": 18,
   "id": "3fb24bb8-21c8-46a6-b23f-c8e9dd1771a6",
   "metadata": {},
   "outputs": [],
   "source": [
    "yy= df['Year']\n",
    "sl= df['CSIRO Adjusted Sea Level']"
   ]
  },
  {
   "cell_type": "code",
   "execution_count": 14,
   "id": "7e2c7dea-439f-4870-b81b-d8f38b8099ee",
   "metadata": {},
   "outputs": [
    {
     "data": {
      "text/plain": [
       "1880"
      ]
     },
     "execution_count": 14,
     "metadata": {},
     "output_type": "execute_result"
    }
   ],
   "source": [
    "min(df['Year'])"
   ]
  },
  {
   "cell_type": "code",
   "execution_count": 21,
   "id": "240e5c4a-9a75-4ed7-a156-5b73546be830",
   "metadata": {},
   "outputs": [],
   "source": [
    "import numpy as np\n",
    "x1= np.arange(min(yy),2051, 10)"
   ]
  },
  {
   "cell_type": "code",
   "execution_count": 22,
   "id": "076cf22b-313a-49ce-a4f9-cd262f467dab",
   "metadata": {},
   "outputs": [
    {
     "data": {
      "text/plain": [
       "array([1880, 1890, 1900, 1910, 1920, 1930, 1940, 1950, 1960, 1970, 1980,\n",
       "       1990, 2000, 2010, 2020, 2030, 2040, 2050])"
      ]
     },
     "execution_count": 22,
     "metadata": {},
     "output_type": "execute_result"
    }
   ],
   "source": [
    "x1"
   ]
  },
  {
   "cell_type": "code",
   "execution_count": 24,
   "id": "d31ab69d-6e24-4523-a744-942a4ecb64a0",
   "metadata": {},
   "outputs": [],
   "source": [
    "res= linregress(df['Year'], df['CSIRO Adjusted Sea Level'])"
   ]
  },
  {
   "cell_type": "code",
   "execution_count": 25,
   "id": "381eba2f-021a-4e90-8042-c91fb4c1b461",
   "metadata": {},
   "outputs": [
    {
     "data": {
      "text/plain": [
       "[<matplotlib.lines.Line2D at 0x23459f52540>]"
      ]
     },
     "execution_count": 25,
     "metadata": {},
     "output_type": "execute_result"
    },
    {
     "data": {
      "image/png": "[encoded data removed]",
      "text/plain": [
       "<Figure size 640x480 with 1 Axes>"
      ]
     },
     "metadata": {},
     "output_type": "display_data"
    }
   ],
   "source": [
    "plt.plot(x1, res.intercept + res.slope*x1, 'r', label='fitted line')"
   ]
  },
  {
   "cell_type": "code",
   "execution_count": 29,
   "id": "a2350d7f-7d65-4f07-8061-3f8952ffbf00",
   "metadata": {},
   "outputs": [
    {
     "data": {
      "image/png": "[encoded data removed]",
      "text/plain": [
       "<Figure size 500x500 with 1 Axes>"
      ]
     },
     "metadata": {},
     "output_type": "display_data"
    }
   ],
   "source": [
    "fig1, ax1 = plt.subplots(figsize=(5, 5))\n",
    "ax1= plt.scatter(df['Year'], df['CSIRO Adjusted Sea Level'])\n",
    "ax1= plt.plot(x1, res.intercept + res.slope*x1, 'r', label='fitted line')\n",
    "plt.show()\n"
   ]
  },
  {
   "cell_type": "code",
   "execution_count": 30,
   "id": "be3a0bd0-b874-4a28-bfa8-71047bf1f12e",
   "metadata": {},
   "outputs": [],
   "source": [
    "y1= res.intercept + res.slope*x1"
   ]
  },
  {
   "cell_type": "code",
   "execution_count": 31,
   "id": "0ca1a8ca-d651-4d67-96c2-6dd046302f80",
   "metadata": {},
   "outputs": [
    {
     "data": {
      "text/plain": [
       "array([-0.54212402,  0.08832182,  0.71876766,  1.3492135 ,  1.97965934,\n",
       "        2.61010518,  3.24055102,  3.87099686,  4.5014427 ,  5.13188854,\n",
       "        5.76233438,  6.39278022,  7.02322606,  7.6536719 ,  8.28411774,\n",
       "        8.91456358,  9.54500942, 10.17545526])"
      ]
     },
     "execution_count": 31,
     "metadata": {},
     "output_type": "execute_result"
    }
   ],
   "source": [
    "y1\n"
   ]
  },
  {
   "cell_type": "code",
   "execution_count": 32,
   "id": "97d9aa64-5fb8-451a-b294-88b9c88ea565",
   "metadata": {},
   "outputs": [
    {
     "data": {
      "text/plain": [
       "10.175455257136548"
      ]
     },
     "execution_count": 32,
     "metadata": {},
     "output_type": "execute_result"
    }
   ],
   "source": [
    "y1[-1]"
   ]
  },
  {
   "cell_type": "code",
   "execution_count": 33,
   "id": "729e5998-10dd-4e0f-a9e5-540494905753",
   "metadata": {},
   "outputs": [
    {
     "ename": "AttributeError",
     "evalue": "'list' object has no attribute 'set'",
     "output_type": "error",
     "traceback": [
      "\u001b[1;31m---------------------------------------------------------------------------\u001b[0m",
      "\u001b[1;31mAttributeError\u001b[0m                            Traceback (most recent call last)",
      "Cell \u001b[1;32mIn[33], line 1\u001b[0m\n\u001b[1;32m----> 1\u001b[0m \u001b[43max1\u001b[49m\u001b[38;5;241;43m.\u001b[39;49m\u001b[43mset\u001b[49m(xlabel\u001b[38;5;241m=\u001b[39m\u001b[38;5;124m'\u001b[39m\u001b[38;5;124mYear\u001b[39m\u001b[38;5;124m'\u001b[39m, ylabel\u001b[38;5;241m=\u001b[39m\u001b[38;5;124m'\u001b[39m\u001b[38;5;124mSea Level (inches)\u001b[39m\u001b[38;5;124m'\u001b[39m, title\u001b[38;5;241m=\u001b[39m\u001b[38;5;124m'\u001b[39m\u001b[38;5;124mRise in Sea Level\u001b[39m\u001b[38;5;124m'\u001b[39m)\n",
      "\u001b[1;31mAttributeError\u001b[0m: 'list' object has no attribute 'set'"
     ]
    }
   ],
   "source": [
    "ax1.set(xlabel='Year', ylabel='Sea Level (inches)', title='Rise in Sea Level')\n"
   ]
  },
  {
   "cell_type": "code",
   "execution_count": 34,
   "id": "9ab28ea4-8a0a-4366-832f-8d42535ce2a3",
   "metadata": {},
   "outputs": [],
   "source": [
    "from pandas.plotting import register_matplotlib_converters\n",
    "register_matplotlib_converters()\n"
   ]
  },
  {
   "cell_type": "code",
   "execution_count": 35,
   "id": "25f73498-a6ef-44a0-afb1-b6d8b89ceab8",
   "metadata": {},
   "outputs": [
    {
     "ename": "AttributeError",
     "evalue": "'list' object has no attribute 'set'",
     "output_type": "error",
     "traceback": [
      "\u001b[1;31m---------------------------------------------------------------------------\u001b[0m",
      "\u001b[1;31mAttributeError\u001b[0m                            Traceback (most recent call last)",
      "Cell \u001b[1;32mIn[35], line 1\u001b[0m\n\u001b[1;32m----> 1\u001b[0m \u001b[43max1\u001b[49m\u001b[38;5;241;43m.\u001b[39;49m\u001b[43mset\u001b[49m(xlabel\u001b[38;5;241m=\u001b[39m\u001b[38;5;124m'\u001b[39m\u001b[38;5;124mYear\u001b[39m\u001b[38;5;124m'\u001b[39m, ylabel\u001b[38;5;241m=\u001b[39m\u001b[38;5;124m'\u001b[39m\u001b[38;5;124mSea Level (inches)\u001b[39m\u001b[38;5;124m'\u001b[39m, title\u001b[38;5;241m=\u001b[39m\u001b[38;5;124m'\u001b[39m\u001b[38;5;124mRise in Sea Level\u001b[39m\u001b[38;5;124m'\u001b[39m)\n",
      "\u001b[1;31mAttributeError\u001b[0m: 'list' object has no attribute 'set'"
     ]
    }
   ],
   "source": [
    "ax1.set(xlabel='Year', ylabel='Sea Level (inches)', title='Rise in Sea Level')\n"
   ]
  },
  {
   "cell_type": "code",
   "execution_count": 36,
   "id": "fb0f06c1-89f4-412a-b905-b13f92cd7600",
   "metadata": {},
   "outputs": [],
   "source": [
    "import seaborn as sns"
   ]
  },
  {
   "cell_type": "code",
   "execution_count": 37,
   "id": "f6f32ca9-20b1-476f-a3fe-abc21e8f0262",
   "metadata": {},
   "outputs": [
    {
     "ename": "AttributeError",
     "evalue": "'list' object has no attribute 'set'",
     "output_type": "error",
     "traceback": [
      "\u001b[1;31m---------------------------------------------------------------------------\u001b[0m",
      "\u001b[1;31mAttributeError\u001b[0m                            Traceback (most recent call last)",
      "Cell \u001b[1;32mIn[37], line 1\u001b[0m\n\u001b[1;32m----> 1\u001b[0m \u001b[43max1\u001b[49m\u001b[38;5;241;43m.\u001b[39;49m\u001b[43mset\u001b[49m(xlabel\u001b[38;5;241m=\u001b[39m\u001b[38;5;124m'\u001b[39m\u001b[38;5;124mYear\u001b[39m\u001b[38;5;124m'\u001b[39m, ylabel\u001b[38;5;241m=\u001b[39m\u001b[38;5;124m'\u001b[39m\u001b[38;5;124mSea Level (inches)\u001b[39m\u001b[38;5;124m'\u001b[39m, title\u001b[38;5;241m=\u001b[39m\u001b[38;5;124m'\u001b[39m\u001b[38;5;124mRise in Sea Level\u001b[39m\u001b[38;5;124m'\u001b[39m)\n",
      "\u001b[1;31mAttributeError\u001b[0m: 'list' object has no attribute 'set'"
     ]
    }
   ],
   "source": [
    "ax1.set(xlabel='Year', ylabel='Sea Level (inches)', title='Rise in Sea Level')"
   ]
  },
  {
   "cell_type": "code",
   "execution_count": 38,
   "id": "0834c524-6204-446f-8736-e4609678c241",
   "metadata": {},
   "outputs": [
    {
     "data": {
      "text/plain": [
       "<module 'seaborn' from 'C:\\\\Users\\\\vvk19\\\\miniconda3\\\\envs\\\\dataanalytics\\\\Lib\\\\site-packages\\\\seaborn\\\\__init__.py'>"
      ]
     },
     "execution_count": 38,
     "metadata": {},
     "output_type": "execute_result"
    }
   ],
   "source": [
    "sns"
   ]
  },
  {
   "cell_type": "code",
   "execution_count": null,
   "id": "f1f451cb-93ac-441a-be7e-8fbfd537820f",
   "metadata": {},
   "outputs": [],
   "source": []
  }
 ],
 "metadata": {
  "kernelspec": {
   "display_name": "Python 3 (ipykernel)",
   "language": "python",
   "name": "python3"
  },
  "language_info": {
   "codemirror_mode": {
    "name": "ipython",
    "version": 3
   },
   "file_extension": ".py",
   "mimetype": "text/x-python",
   "name": "python",
   "nbconvert_exporter": "python",
   "pygments_lexer": "ipython3",
   "version": "3.12.4"
  }
 },
 "nbformat": 4,
 "nbformat_minor": 5
}
